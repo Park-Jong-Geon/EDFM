{
 "cells": [
  {
   "cell_type": "code",
   "execution_count": 1,
   "source": [
    "import numpy as NP\n",
    "import matplotlib.pyplot as P\n",
    "import matplotlib.ticker as MT\n",
    "import matplotlib.lines as L\n",
    "import matplotlib.cm as CM\n",
    "import matplotlib.colors as C\n",
    "import matplotlib.patches as PA\n",
    "\n",
    "def plotSimplex(points, fig=None, \n",
    "                vertexlabels=['1','2','3'],\n",
    "                **kwargs):\n",
    "    \"\"\"\n",
    "    Plot Nx3 points array on the 3-simplex \n",
    "    (with optionally labeled vertices) \n",
    "    \n",
    "    kwargs will be passed along directly to matplotlib.pyplot.scatter    \n",
    "    Returns Figure, caller must .show()\n",
    "    \"\"\"\n",
    "    if(fig == None):        \n",
    "        fig = P.figure()\n",
    "    # Draw the triangle\n",
    "    l1 = L.Line2D([0, 0.5, 1.0, 0], # xcoords\n",
    "                  [0, NP.sqrt(3) / 2, 0, 0], # ycoords\n",
    "                  color='k')\n",
    "    fig.gca().add_line(l1)\n",
    "    fig.gca().xaxis.set_major_locator(MT.NullLocator())\n",
    "    fig.gca().yaxis.set_major_locator(MT.NullLocator())\n",
    "    # Draw vertex labels\n",
    "    fig.gca().text(-0.05, -0.05, vertexlabels[0])\n",
    "    fig.gca().text(1.05, -0.05, vertexlabels[1])\n",
    "    fig.gca().text(0.5, NP.sqrt(3) / 2 + 0.05, vertexlabels[2])\n",
    "    # Project and draw the actual points\n",
    "    projected = projectSimplex(points)\n",
    "    P.scatter(projected[:,0], projected[:,1], **kwargs)              \n",
    "    # Leave some buffer around the triangle for vertex labels\n",
    "    fig.gca().set_xlim(-0.2, 1.2)\n",
    "    fig.gca().set_ylim(-0.2, 1.2)\n",
    "\n",
    "    return fig   "
   ],
   "outputs": [],
   "metadata": {}
  },
  {
   "cell_type": "code",
   "execution_count": 2,
   "source": [
    "def projectSimplex(points):\n",
    "    \"\"\" \n",
    "    Project probabilities on the 3-simplex to a 2D triangle\n",
    "    \n",
    "    N points are given as N x 3 array\n",
    "    \"\"\"\n",
    "    # Convert points one at a time\n",
    "    tripts = NP.zeros((points.shape[0],2))\n",
    "    for idx in range(points.shape[0]):\n",
    "        # Init to triangle centroid\n",
    "        x = 1.0 / 2\n",
    "        y = 1.0 / (2 * NP.sqrt(3))\n",
    "        # Vector 1 - bisect out of lower left vertex \n",
    "        p1 = points[idx, 0]\n",
    "        x = x - (1.0 / NP.sqrt(3)) * p1 * NP.cos(NP.pi / 6)\n",
    "        y = y - (1.0 / NP.sqrt(3)) * p1 * NP.sin(NP.pi / 6)\n",
    "        # Vector 2 - bisect out of lower right vertex  \n",
    "        p2 = points[idx, 1]  \n",
    "        x = x + (1.0 / NP.sqrt(3)) * p2 * NP.cos(NP.pi / 6)\n",
    "        y = y - (1.0 / NP.sqrt(3)) * p2 * NP.sin(NP.pi / 6)        \n",
    "        # Vector 3 - bisect out of top vertex\n",
    "        p3 = points[idx, 2]\n",
    "        y = y + (1.0 / NP.sqrt(3) * p3)\n",
    "      \n",
    "        tripts[idx,:] = (x,y)\n",
    "\n",
    "    return tripts"
   ],
   "outputs": [],
   "metadata": {}
  },
  {
   "cell_type": "code",
   "execution_count": 3,
   "source": [
    "if __name__ == '__main__':\n",
    "    # Define a synthetic test dataset\n",
    "    labels = ('[0.1  0.1  0.8]', \n",
    "              '[0.8  0.1  0.1]', \n",
    "              '[0.5  0.4  0.1]',\n",
    "              '[0.33  0.34  0.33]')\n",
    "    testpoints = NP.array([[0.1, 0.1, 0.8],                   \n",
    "                           [0.8, 0.1, 0.1],\n",
    "                           [0.5, 0.4, 0.1],\n",
    "                           [0.33, 0.34, 0.33]])    \n",
    "    # Define different colors for each label\n",
    "    cmap = CM.get_cmap('spectral')\n",
    "    norm = C.Normalize(vmin=0, vmax=len(labels))\n",
    "    c = range(len(labels))\n",
    "    # Do scatter plot\n",
    "    fig = plotSimplex(testpoints, s=100, c=c,                      \n",
    "                      cmap=cmap, norm=norm)\n",
    "    # Make color-label legend\n",
    "    P.legend([PA.Rectangle((0, 0), 1, 1, \n",
    "                           fc=cmap(norm(idx)))\n",
    "              for idx in range(len(labels))], \n",
    "             labels)\n",
    "    \n",
    "    P.show()"
   ],
   "outputs": [
    {
     "output_type": "stream",
     "name": "stderr",
     "text": [
      "/tmp/ipykernel_31869/1053361298.py:12: MatplotlibDeprecationWarning: The get_cmap function was deprecated in Matplotlib 3.7 and will be removed two minor releases later. Use ``matplotlib.colormaps[name]`` or ``matplotlib.colormaps.get_cmap(obj)`` instead.\n",
      "  cmap = CM.get_cmap('spectral')\n"
     ]
    },
    {
     "output_type": "error",
     "ename": "ValueError",
     "evalue": "'spectral' is not a valid value for name; supported values are 'Accent', 'Accent_r', 'Blues', 'Blues_r', 'BrBG', 'BrBG_r', 'BuGn', 'BuGn_r', 'BuPu', 'BuPu_r', 'CMRmap', 'CMRmap_r', 'Dark2', 'Dark2_r', 'GnBu', 'GnBu_r', 'Greens', 'Greens_r', 'Greys', 'Greys_r', 'OrRd', 'OrRd_r', 'Oranges', 'Oranges_r', 'PRGn', 'PRGn_r', 'Paired', 'Paired_r', 'Pastel1', 'Pastel1_r', 'Pastel2', 'Pastel2_r', 'PiYG', 'PiYG_r', 'PuBu', 'PuBuGn', 'PuBuGn_r', 'PuBu_r', 'PuOr', 'PuOr_r', 'PuRd', 'PuRd_r', 'Purples', 'Purples_r', 'RdBu', 'RdBu_r', 'RdGy', 'RdGy_r', 'RdPu', 'RdPu_r', 'RdYlBu', 'RdYlBu_r', 'RdYlGn', 'RdYlGn_r', 'Reds', 'Reds_r', 'Set1', 'Set1_r', 'Set2', 'Set2_r', 'Set3', 'Set3_r', 'Spectral', 'Spectral_r', 'Wistia', 'Wistia_r', 'YlGn', 'YlGnBu', 'YlGnBu_r', 'YlGn_r', 'YlOrBr', 'YlOrBr_r', 'YlOrRd', 'YlOrRd_r', 'afmhot', 'afmhot_r', 'autumn', 'autumn_r', 'binary', 'binary_r', 'bone', 'bone_r', 'brg', 'brg_r', 'bwr', 'bwr_r', 'cividis', 'cividis_r', 'cool', 'cool_r', 'coolwarm', 'coolwarm_r', 'copper', 'copper_r', 'cubehelix', 'cubehelix_r', 'flag', 'flag_r', 'gist_earth', 'gist_earth_r', 'gist_gray', 'gist_gray_r', 'gist_heat', 'gist_heat_r', 'gist_ncar', 'gist_ncar_r', 'gist_rainbow', 'gist_rainbow_r', 'gist_stern', 'gist_stern_r', 'gist_yarg', 'gist_yarg_r', 'gnuplot', 'gnuplot2', 'gnuplot2_r', 'gnuplot_r', 'gray', 'gray_r', 'hot', 'hot_r', 'hsv', 'hsv_r', 'inferno', 'inferno_r', 'jet', 'jet_r', 'magma', 'magma_r', 'nipy_spectral', 'nipy_spectral_r', 'ocean', 'ocean_r', 'pink', 'pink_r', 'plasma', 'plasma_r', 'prism', 'prism_r', 'rainbow', 'rainbow_r', 'seismic', 'seismic_r', 'spring', 'spring_r', 'summer', 'summer_r', 'tab10', 'tab10_r', 'tab20', 'tab20_r', 'tab20b', 'tab20b_r', 'tab20c', 'tab20c_r', 'terrain', 'terrain_r', 'turbo', 'turbo_r', 'twilight', 'twilight_r', 'twilight_shifted', 'twilight_shifted_r', 'viridis', 'viridis_r', 'winter', 'winter_r'",
     "traceback": [
      "\u001b[0;31m---------------------------------------------------------------------------\u001b[0m",
      "\u001b[0;31mValueError\u001b[0m                                Traceback (most recent call last)",
      "Cell \u001b[0;32mIn[3], line 12\u001b[0m\n\u001b[1;32m      7\u001b[0m testpoints \u001b[38;5;241m=\u001b[39m NP\u001b[38;5;241m.\u001b[39marray([[\u001b[38;5;241m0.1\u001b[39m, \u001b[38;5;241m0.1\u001b[39m, \u001b[38;5;241m0.8\u001b[39m],                   \n\u001b[1;32m      8\u001b[0m                        [\u001b[38;5;241m0.8\u001b[39m, \u001b[38;5;241m0.1\u001b[39m, \u001b[38;5;241m0.1\u001b[39m],\n\u001b[1;32m      9\u001b[0m                        [\u001b[38;5;241m0.5\u001b[39m, \u001b[38;5;241m0.4\u001b[39m, \u001b[38;5;241m0.1\u001b[39m],\n\u001b[1;32m     10\u001b[0m                        [\u001b[38;5;241m0.33\u001b[39m, \u001b[38;5;241m0.34\u001b[39m, \u001b[38;5;241m0.33\u001b[39m]])    \n\u001b[1;32m     11\u001b[0m \u001b[38;5;66;03m# Define different colors for each label\u001b[39;00m\n\u001b[0;32m---> 12\u001b[0m cmap \u001b[38;5;241m=\u001b[39m \u001b[43mCM\u001b[49m\u001b[38;5;241;43m.\u001b[39;49m\u001b[43mget_cmap\u001b[49m\u001b[43m(\u001b[49m\u001b[38;5;124;43m'\u001b[39;49m\u001b[38;5;124;43mspectral\u001b[39;49m\u001b[38;5;124;43m'\u001b[39;49m\u001b[43m)\u001b[49m\n\u001b[1;32m     13\u001b[0m norm \u001b[38;5;241m=\u001b[39m C\u001b[38;5;241m.\u001b[39mNormalize(vmin\u001b[38;5;241m=\u001b[39m\u001b[38;5;241m0\u001b[39m, vmax\u001b[38;5;241m=\u001b[39m\u001b[38;5;28mlen\u001b[39m(labels))\n\u001b[1;32m     14\u001b[0m c \u001b[38;5;241m=\u001b[39m \u001b[38;5;28mrange\u001b[39m(\u001b[38;5;28mlen\u001b[39m(labels))\n",
      "File \u001b[0;32m~/.conda/envs/per-test/lib/python3.8/site-packages/matplotlib/_api/deprecation.py:200\u001b[0m, in \u001b[0;36mdeprecated.<locals>.deprecate.<locals>.wrapper\u001b[0;34m(*args, **kwargs)\u001b[0m\n\u001b[1;32m    198\u001b[0m \u001b[38;5;28;01mdef\u001b[39;00m \u001b[38;5;21mwrapper\u001b[39m(\u001b[38;5;241m*\u001b[39margs, \u001b[38;5;241m*\u001b[39m\u001b[38;5;241m*\u001b[39mkwargs):\n\u001b[1;32m    199\u001b[0m     emit_warning()\n\u001b[0;32m--> 200\u001b[0m     \u001b[38;5;28;01mreturn\u001b[39;00m \u001b[43mfunc\u001b[49m\u001b[43m(\u001b[49m\u001b[38;5;241;43m*\u001b[39;49m\u001b[43margs\u001b[49m\u001b[43m,\u001b[49m\u001b[43m \u001b[49m\u001b[38;5;241;43m*\u001b[39;49m\u001b[38;5;241;43m*\u001b[39;49m\u001b[43mkwargs\u001b[49m\u001b[43m)\u001b[49m\n",
      "File \u001b[0;32m~/.conda/envs/per-test/lib/python3.8/site-packages/matplotlib/cm.py:289\u001b[0m, in \u001b[0;36m_get_cmap\u001b[0;34m(name, lut)\u001b[0m\n\u001b[1;32m    287\u001b[0m \u001b[38;5;28;01mif\u001b[39;00m \u001b[38;5;28misinstance\u001b[39m(name, colors\u001b[38;5;241m.\u001b[39mColormap):\n\u001b[1;32m    288\u001b[0m     \u001b[38;5;28;01mreturn\u001b[39;00m name\n\u001b[0;32m--> 289\u001b[0m \u001b[43m_api\u001b[49m\u001b[38;5;241;43m.\u001b[39;49m\u001b[43mcheck_in_list\u001b[49m\u001b[43m(\u001b[49m\u001b[38;5;28;43msorted\u001b[39;49m\u001b[43m(\u001b[49m\u001b[43m_colormaps\u001b[49m\u001b[43m)\u001b[49m\u001b[43m,\u001b[49m\u001b[43m \u001b[49m\u001b[43mname\u001b[49m\u001b[38;5;241;43m=\u001b[39;49m\u001b[43mname\u001b[49m\u001b[43m)\u001b[49m\n\u001b[1;32m    290\u001b[0m \u001b[38;5;28;01mif\u001b[39;00m lut \u001b[38;5;129;01mis\u001b[39;00m \u001b[38;5;28;01mNone\u001b[39;00m:\n\u001b[1;32m    291\u001b[0m     \u001b[38;5;28;01mreturn\u001b[39;00m _colormaps[name]\n",
      "File \u001b[0;32m~/.conda/envs/per-test/lib/python3.8/site-packages/matplotlib/_api/__init__.py:131\u001b[0m, in \u001b[0;36mcheck_in_list\u001b[0;34m(_values, _print_supported_values, **kwargs)\u001b[0m\n\u001b[1;32m    129\u001b[0m \u001b[38;5;28;01mif\u001b[39;00m _print_supported_values:\n\u001b[1;32m    130\u001b[0m     msg \u001b[38;5;241m+\u001b[39m\u001b[38;5;241m=\u001b[39m \u001b[38;5;124mf\u001b[39m\u001b[38;5;124m\"\u001b[39m\u001b[38;5;124m; supported values are \u001b[39m\u001b[38;5;132;01m{\u001b[39;00m\u001b[38;5;124m'\u001b[39m\u001b[38;5;124m, \u001b[39m\u001b[38;5;124m'\u001b[39m\u001b[38;5;241m.\u001b[39mjoin(\u001b[38;5;28mmap\u001b[39m(\u001b[38;5;28mrepr\u001b[39m,\u001b[38;5;250m \u001b[39mvalues))\u001b[38;5;132;01m}\u001b[39;00m\u001b[38;5;124m\"\u001b[39m\n\u001b[0;32m--> 131\u001b[0m \u001b[38;5;28;01mraise\u001b[39;00m \u001b[38;5;167;01mValueError\u001b[39;00m(msg)\n",
      "\u001b[0;31mValueError\u001b[0m: 'spectral' is not a valid value for name; supported values are 'Accent', 'Accent_r', 'Blues', 'Blues_r', 'BrBG', 'BrBG_r', 'BuGn', 'BuGn_r', 'BuPu', 'BuPu_r', 'CMRmap', 'CMRmap_r', 'Dark2', 'Dark2_r', 'GnBu', 'GnBu_r', 'Greens', 'Greens_r', 'Greys', 'Greys_r', 'OrRd', 'OrRd_r', 'Oranges', 'Oranges_r', 'PRGn', 'PRGn_r', 'Paired', 'Paired_r', 'Pastel1', 'Pastel1_r', 'Pastel2', 'Pastel2_r', 'PiYG', 'PiYG_r', 'PuBu', 'PuBuGn', 'PuBuGn_r', 'PuBu_r', 'PuOr', 'PuOr_r', 'PuRd', 'PuRd_r', 'Purples', 'Purples_r', 'RdBu', 'RdBu_r', 'RdGy', 'RdGy_r', 'RdPu', 'RdPu_r', 'RdYlBu', 'RdYlBu_r', 'RdYlGn', 'RdYlGn_r', 'Reds', 'Reds_r', 'Set1', 'Set1_r', 'Set2', 'Set2_r', 'Set3', 'Set3_r', 'Spectral', 'Spectral_r', 'Wistia', 'Wistia_r', 'YlGn', 'YlGnBu', 'YlGnBu_r', 'YlGn_r', 'YlOrBr', 'YlOrBr_r', 'YlOrRd', 'YlOrRd_r', 'afmhot', 'afmhot_r', 'autumn', 'autumn_r', 'binary', 'binary_r', 'bone', 'bone_r', 'brg', 'brg_r', 'bwr', 'bwr_r', 'cividis', 'cividis_r', 'cool', 'cool_r', 'coolwarm', 'coolwarm_r', 'copper', 'copper_r', 'cubehelix', 'cubehelix_r', 'flag', 'flag_r', 'gist_earth', 'gist_earth_r', 'gist_gray', 'gist_gray_r', 'gist_heat', 'gist_heat_r', 'gist_ncar', 'gist_ncar_r', 'gist_rainbow', 'gist_rainbow_r', 'gist_stern', 'gist_stern_r', 'gist_yarg', 'gist_yarg_r', 'gnuplot', 'gnuplot2', 'gnuplot2_r', 'gnuplot_r', 'gray', 'gray_r', 'hot', 'hot_r', 'hsv', 'hsv_r', 'inferno', 'inferno_r', 'jet', 'jet_r', 'magma', 'magma_r', 'nipy_spectral', 'nipy_spectral_r', 'ocean', 'ocean_r', 'pink', 'pink_r', 'plasma', 'plasma_r', 'prism', 'prism_r', 'rainbow', 'rainbow_r', 'seismic', 'seismic_r', 'spring', 'spring_r', 'summer', 'summer_r', 'tab10', 'tab10_r', 'tab20', 'tab20_r', 'tab20b', 'tab20b_r', 'tab20c', 'tab20c_r', 'terrain', 'terrain_r', 'turbo', 'turbo_r', 'twilight', 'twilight_r', 'twilight_shifted', 'twilight_shifted_r', 'viridis', 'viridis_r', 'winter', 'winter_r'"
     ]
    }
   ],
   "metadata": {}
  }
 ],
 "metadata": {
  "orig_nbformat": 4,
  "language_info": {
   "name": "python",
   "version": "3.8.8",
   "mimetype": "text/x-python",
   "codemirror_mode": {
    "name": "ipython",
    "version": 3
   },
   "pygments_lexer": "ipython3",
   "nbconvert_exporter": "python",
   "file_extension": ".py"
  },
  "kernelspec": {
   "name": "python3",
   "display_name": "Python 3.8.8 64-bit ('per-test': conda)"
  },
  "interpreter": {
   "hash": "acac2c756398c9fcd60fc4502fdbb983d84017e2c086b28857f1f90df03c9be4"
  }
 },
 "nbformat": 4,
 "nbformat_minor": 2
}